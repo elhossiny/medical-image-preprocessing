{
 "cells": [
  {
   "cell_type": "code",
   "execution_count": null,
   "metadata": {},
   "outputs": [],
   "source": [
    "#lossy compression\n",
    "import pydicom\n",
    "from PIL import Image\n",
    "\n",
    "# Load the DICOM image\n",
    "ds = pydicom.dcmread('path/to/image.dcm')\n",
    "\n",
    "# Convert the pixel data to a Pillow image\n",
    "img = Image.fromarray(ds.pixel_array)\n",
    "\n",
    "# Compress the image using JPEG compression\n",
    "img.save('path/to/compressed_image.jpg', quality=90, optimize=True)\n",
    "\n",
    "# Load the compressed image as a Pillow image\n",
    "compressed_img = Image.open('path/to/compressed_image.jpg')\n",
    "\n",
    "# Convert the compressed image to a NumPy array\n",
    "compressed_array = np.array(compressed_img)\n",
    "\n",
    "# Update the DICOM dataset with the compressed pixel data\n",
    "ds.PixelData = compressed_array.tobytes()\n",
    "\n",
    "# Save the DICOM dataset to a new file\n",
    "ds.save_as('path/to/compressed_image.dcm')"
   ]
  },
  {
   "cell_type": "code",
   "execution_count": null,
   "metadata": {},
   "outputs": [],
   "source": [
    "# lossless compression\n",
    "import pydicom\n",
    "import gzip\n",
    "\n",
    "# Load the DICOM image\n",
    "ds = pydicom.dcmread('path/to/image.dcm')\n",
    "\n",
    "# Convert the pixel data to bytes\n",
    "pixel_bytes = ds.PixelData.tobytes()\n",
    "\n",
    "# Compress the pixel data using gzip\n",
    "compressed_bytes = gzip.compress(pixel_bytes)\n",
    "\n",
    "# Save the compressed data to a new file\n",
    "with open('path/to/compressed_image.dcm', 'wb') as f:\n",
    "    f.write(ds.file_meta.to_bytes())\n",
    "    f.write(ds.to_bytes())\n",
    "    f.write(compressed_bytes)"
   ]
  },
  {
   "cell_type": "code",
   "execution_count": null,
   "metadata": {},
   "outputs": [],
   "source": [
    "pip install rembg"
   ]
  },
  {
   "cell_type": "code",
   "execution_count": null,
   "metadata": {},
   "outputs": [],
   "source": [
    "from PIL import Image\n",
    "from rembg import remove\n",
    "input_path='CL.jpg'\n",
    "output_path='CL_2.png'\n",
    "input=Image.open(input_path)\n",
    "output=remove(input)\n",
    "output.save(output_path)"
   ]
  },
  {
   "cell_type": "code",
   "execution_count": null,
   "metadata": {},
   "outputs": [],
   "source": []
  }
 ],
 "metadata": {
  "kernelspec": {
   "display_name": "base",
   "language": "python",
   "name": "python3"
  },
  "language_info": {
   "codemirror_mode": {
    "name": "ipython",
    "version": 3
   },
   "file_extension": ".py",
   "mimetype": "text/x-python",
   "name": "python",
   "nbconvert_exporter": "python",
   "pygments_lexer": "ipython3",
   "version": "3.7.4"
  },
  "orig_nbformat": 4
 },
 "nbformat": 4,
 "nbformat_minor": 2
}
